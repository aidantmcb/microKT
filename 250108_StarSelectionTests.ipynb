{
 "cells": [
  {
   "cell_type": "code",
   "execution_count": 2,
   "metadata": {},
   "outputs": [
    {
     "name": "stderr",
     "output_type": "stream",
     "text": [
      "/uufs/astro.utah.edu/common/home/u1371365/.local/lib/python3.10/site-packages/matplotlib/projections/__init__.py:63: UserWarning: Unable to import Axes3D. This may be due to multiple versions of Matplotlib being installed (e.g. as a system package and as a pip package). As a result, the 3D projection is not available.\n",
      "  warnings.warn(\"Unable to import Axes3D. This may be due to multiple versions of \"\n"
     ]
    }
   ],
   "source": [
    "from multiprocessing import Pool\n",
    "import multiprocessing as mp\n",
    "import os\n",
    "os.environ['OMP_NUM_THREADS'] = \"1\"\n",
    "\n",
    "import numpy as np\n",
    "\n",
    "import astropy.units as u  \n",
    "import astropy.constants as c\n",
    "from astropy.coordinates import SkyCoord\n",
    "\n",
    "import matplotlib.pyplot as plt\n",
    "from matplotlib.colors import Normalize\n",
    "import matplotlib \n",
    "\n",
    "from astropy.io import fits\n",
    "from astropy.table import Table, join\n",
    "from astropy.wcs import WCS\n",
    "from scipy.interpolate import interp1d\n",
    "from scipy.optimize import curve_fit\n",
    "from scipy.stats import spearmanr\n",
    "\n",
    "from dustmaps.vergely2022 import Vergely2022Query\n",
    "from dustmaps.edenhofer2023 import Edenhofer2023Query\n",
    "\n",
    "import pickle \n",
    "import sys\n",
    "import os\n",
    "import tqdm\n",
    "import datetime\n",
    "\n",
    "import emcee\n",
    "import corner\n",
    "\n",
    "import h5py\n",
    "import multiprocessing as mp\n",
    "\n",
    "data_dir = '/uufs/chpc.utah.edu/common/home/astro/zasowski/mcbride/'\n",
    "\n",
    "plt.rcParams['figure.facecolor'] = 'white'\n"
   ]
  },
  {
   "cell_type": "code",
   "execution_count": 3,
   "metadata": {},
   "outputs": [],
   "source": [
    "import globalvars\n",
    "dust_data = globalvars.DustData()"
   ]
  },
  {
   "cell_type": "code",
   "execution_count": 4,
   "metadata": {},
   "outputs": [
    {
     "name": "stderr",
     "output_type": "stream",
     "text": [
      "/tmp/ipykernel_996968/2315330892.py:4: DeprecationWarning: `product` is deprecated as of NumPy 1.25.0, and will be removed in NumPy 2.0. Please use `prod` instead.\n",
      "  edenhofer = np.array(f['data'])\n"
     ]
    }
   ],
   "source": [
    "map_fname = '/uufs/astro.utah.edu/common/home/u1371365/DIB_KT_CACloud/edenhofer_out.h5'\n",
    "\n",
    "with h5py.File(map_fname, 'r') as f:\n",
    "    edenhofer = np.array(f['data'])\n",
    "    dust_data.intake_map(edenhofer)"
   ]
  },
  {
   "cell_type": "code",
   "execution_count": 5,
   "metadata": {},
   "outputs": [
    {
     "name": "stdout",
     "output_type": "stream",
     "text": [
      "1010\n"
     ]
    }
   ],
   "source": [
    "CA_meta = Table(fits.open(data_dir + '/data/230420_CAResiduals/CA_meta.fits')[1].data)\n",
    "CAresdir = '/uufs/astro.utah.edu/common/home/u1371365/Data/230420_CAResiduals/'\n",
    "CAMADGICSresdir = '/uufs/astro.utah.edu/common/home/u1371365/Data/230829_MADGICSResiduals/'\n",
    "starhorsepath = '/uufs/chpc.utah.edu/common/home/sdss/dr17/env/APOGEE_STARHORSE/APOGEE_DR17_EDR3_STARHORSE_v2.fits'\n",
    "starhorse = Table.read(starhorsepath, hdu = 1)\n",
    "starhorse = starhorse['APOGEE_ID', 'dist16', 'dist50', 'dist84', 'AV16', 'AV50', 'AV84']\n",
    "\n",
    "CA_meta = join(CA_meta, starhorse, keys = 'APOGEE_ID', join_type = 'left')\n",
    "\n",
    "CA_meta_full = CA_meta.copy()\n",
    "\n",
    "with open('/uufs/astro.utah.edu/common/home/u1371365/DIB_KT_CACloud/goodbad.pickle', mode = 'rb') as f:\n",
    "    goodbad = pickle.load(f)\n",
    "\n",
    "# added 02.01\n",
    "data_criteria = (((CA_meta['SNR'] > 80) & (CA_meta['TEFF'] > 5000)) | (CA_meta['SNR'] > 150)) & (CA_meta['ASPCAP_CHI2_1'] > 1) & (CA_meta['ASPCAP_CHI2_1'] < 5)\n",
    "print(np.sum(data_criteria))\n",
    "CA_meta= CA_meta[data_criteria]"
   ]
  },
  {
   "cell_type": "code",
   "execution_count": 6,
   "metadata": {},
   "outputs": [],
   "source": [
    "from specfns import get_wavs, resample_interp, dopplershift, lambda0, sigma0\n",
    "from filehandling import get_ca_res, get_madgics_res, get_medres\n",
    "from spacefns_v2 import select_stars, find_nearest, find_radius, differentialAmplitude\n",
    "from MCMCfns import logprob_2\n",
    "from sightline import Sightline\n",
    "import time"
   ]
  },
  {
   "cell_type": "code",
   "execution_count": 7,
   "metadata": {},
   "outputs": [
    {
     "name": "stdout",
     "output_type": "stream",
     "text": [
      "1010\n"
     ]
    }
   ],
   "source": [
    "CA_meta = Table(fits.open(data_dir + '/data/230420_CAResiduals/CA_meta.fits')[1].data)\n",
    "CAresdir = '/uufs/astro.utah.edu/common/home/u1371365/Data/230420_CAResiduals/'\n",
    "CAMADGICSresdir = '/uufs/astro.utah.edu/common/home/u1371365/Data/230829_MADGICSResiduals/'\n",
    "# starhorsepath = '/uufs/chpc.utah.edu/common/home/sdss/dr17/env/APOGEE_STARHORSE/APOGEE_DR17_EDR3_STARHORSE_v2.fits'\n",
    "# starhorse = Table.read(starhorsepath, hdu = 1)\n",
    "# starhorse = starhorse['APOGEE_ID', 'dist16', 'dist50', 'dist84', 'AV16', 'AV50', 'AV84']\n",
    "\n",
    "# CA_meta = join(CA_meta, starhorse, keys = 'APOGEE_ID', join_type = 'left')\n",
    "\n",
    "CA_meta_full = CA_meta.copy()\n",
    "\n",
    "with open('/uufs/astro.utah.edu/common/home/u1371365/DIB_KT_CACloud/goodbad.pickle', mode = 'rb') as f:\n",
    "    goodbad = pickle.load(f)\n",
    "\n",
    "# added 02.01\n",
    "data_criteria = (((CA_meta['SNR'] > 80) & (CA_meta['TEFF'] > 5000)) | (CA_meta['SNR'] > 150)) & (CA_meta['ASPCAP_CHI2_1'] > 1) & (CA_meta['ASPCAP_CHI2_1'] < 5)\n",
    "print(np.sum(data_criteria))\n",
    "CA_meta= CA_meta[data_criteria]"
   ]
  },
  {
   "cell_type": "code",
   "execution_count": 8,
   "metadata": {},
   "outputs": [],
   "source": [
    "lambda0 = 15272.42\n",
    "from specfns import get_wavs\n",
    "\n",
    "wavs = get_wavs()\n",
    "window = (wavs > lambda0 -10) & (wavs < lambda0 + 10)\n",
    "wavs_window = wavs[window]"
   ]
  },
  {
   "cell_type": "code",
   "execution_count": 9,
   "metadata": {},
   "outputs": [],
   "source": [
    "ds = 1 # x downsampled\n",
    "rad = 2\n",
    "\n",
    "sample_dim_l = np.linspace(159, 167, int(8 / (ds * rad)))\n",
    "sample_dim_b = np.linspace(-12.5 , -4.5, int(8 / (ds * rad)))\n",
    "sample_grid_l, sample_grid_b = np.meshgrid(sample_dim_l, sample_dim_b)\n",
    "grid_map_inds = np.array([find_nearest(sample_grid_l.flatten()[i], sample_grid_b.flatten()[i]) for i in range(len(sample_grid_l.flatten()))]).T\n",
    "grid_map = np.nansum(np.copy(edenhofer[grid_map_inds[1], grid_map_inds[0], :]).reshape(*sample_grid_l.shape, -1), axis = 2)\n",
    "grid_Nstar = np.array([np.nansum((np.abs((sample_grid_l.flatten()[i] - CA_meta['GLON'])) <= rad) & \n",
    "            (np.abs((sample_grid_b.flatten()[i] - CA_meta['GLAT'])) <= rad)) for i in range(len(sample_grid_l.flatten()))]).reshape(*sample_grid_l.shape)\n",
    "\n",
    "# filament_l = (159, 169)\n",
    "# filament_b = (-10, -6)\n",
    "\n",
    "# N_min = 25\n",
    "# radius_min = np.zeros(sample_grid_l.shape)\n",
    "# mgrid = np.mgrid[0:len(sample_dim_l), 0:len(sample_dim_b)]\n",
    "# for i in mgrid[0].flatten():\n",
    "#     for j in mgrid[1].flatten():\n",
    "#         radius_min[i, j] = find_radius(sample_grid_l[i, j], sample_grid_b[i, j], N_min, CA_meta)\n",
    "#         radius_min[i, j] = np.max([radius_min[i, j], rad])\n",
    "\n",
    "# radius_max = 0.4\n",
    "# print(np.nansum(radius_min < radius_max))\n",
    "\n",
    "\n",
    "# crit_filament = ((sample_grid_l > filament_l[0]) & (sample_grid_l < filament_l[1]) & \n",
    "#                  (sample_grid_b > filament_b[0]) & (sample_grid_b < filament_b[1]) &\n",
    "#                  (grid_map > 2.2) & (radius_min < 0.5)) #(grid_Nstar > 5) & (grid_Nstar <= 10))\n",
    "\n",
    "# crit_background =  (((sample_grid_l <= filament_l[0]) | (sample_grid_l >= filament_l[1]) |\n",
    "#                  (sample_grid_b <= filament_b[0]) | (sample_grid_b >= filament_b[1])) &\n",
    "#                  (grid_map <= 1.5) & (radius_min < radius_max)) #(grid_Nstar > 5) & (grid_Nstar <= 10))\n",
    "\n",
    "# # crit_coverage = (np.sum() => 1 & )\n",
    "\n",
    "# N_filament = np.sum(crit_filament)\n",
    "# N_background = np.sum(crit_background)\n",
    "# print(np.sum(crit_filament))\n",
    "# print(np.sum(crit_background))\n",
    "# l_fil, b_fil, AV_fil = (sample_grid_l[crit_filament].flatten(), sample_grid_b[crit_filament].flatten(),\n",
    "#                         grid_map[crit_filament].flatten())\n",
    "# l_off, b_off, AV_off = (sample_grid_l[crit_background].flatten(), sample_grid_b[crit_background].flatten(),\n",
    "#                         grid_map[crit_background].flatten())\n",
    "\n",
    "# l_sample, b_sample, AV_sample = (np.concatenate([l_fil, l_off]), np.concatenate([b_fil, b_off]),\n",
    "#                                   np.concatenate([AV_fil, AV_off]))\n",
    "# radius_min_fil = radius_min[crit_filament].flatten()\n",
    "# radius_min_off = radius_min[crit_background].flatten()\n",
    "# radius_sample = np.concatenate([radius_min_fil, radius_min_off])\n",
    "\n",
    "# selected_inds = []\n",
    "# for i in range(len(l_sample)):\n",
    "#     l_center, b_center = l_sample[i], b_sample[i]\n",
    "#     rad_i = radius_sample[i]\n",
    "#     selection = select_stars(CA_meta, l_center, b_center, radius = rad_i)\n",
    "#     # print(len(selection))\n",
    "#     selected_inds.append(selection)"
   ]
  },
  {
   "cell_type": "code",
   "execution_count": 18,
   "metadata": {},
   "outputs": [],
   "source": [
    "\n",
    "selected_inds = []\n",
    "N_min_vals = [3, 5, 8, 10, 15, 20, 25, 30, 35, 40, 45, 50]\n",
    "l_center, b_center = 165,-8.5\n",
    "for N_min in N_min_vals:\n",
    "    # N_min = 25\n",
    "    radius_min = 0\n",
    "    mgrid = np.mgrid[0:len(sample_dim_l), 0:len(sample_dim_b)]\n",
    "    rad = find_radius(l_center, b_center, N_min, CA_meta)\n",
    "    rad_sel = np.max([radius_min, rad])\n",
    "    selection = select_stars(CA_meta, l_center, b_center, radius = rad_sel)\n",
    "    # print(len(selection))\n",
    "    selected_inds.append(selection)"
   ]
  },
  {
   "cell_type": "code",
   "execution_count": null,
   "metadata": {},
   "outputs": [],
   "source": []
  },
  {
   "cell_type": "code",
   "execution_count": 19,
   "metadata": {},
   "outputs": [],
   "source": [
    "dibfn = lambda x, mu, sigma, a: 1-a * np.exp(-0.5 * (x - mu)**2 / sigma**2)\n",
    "def sigma_clip_mask(y, x = wavs, k = 2.5):\n",
    "    y_over_gauss = None\n",
    "\n",
    "    try:\n",
    "        gaussfit = curve_fit(dibfn, x[window], y[window].filled(np.nan), p0 = (15272, 1.2, 0.05), bounds = ([15269, 0.5, 0], [15275, 2, 0.15]), check_finite = False, nan_policy = 'omit')\n",
    "\n",
    "    except:\n",
    "        # gaussfit = ((15272, 1.2, 0.05),())\n",
    "        print('fail')\n",
    "        return None, None\n",
    "    #     y_over_gauss = None\n",
    "    #     gaussfit = ((15272, 1.2, 0.05),())\n",
    "    #     # fit = dibfn(x, 15272.42, 1.2, 0.05)\n",
    "    #     # y_over_gauss = y / fit\n",
    "    #     print('POOR GAUSS FIT IN SIGMA CLIP')\n",
    "    y_over_gauss = y / dibfn(x, *gaussfit[0])\n",
    "\n",
    "    med = np.nanmedian(y_over_gauss[window])\n",
    "    stdev = np.std(y_over_gauss[window], ddof = 1)\n",
    "    mask = np.abs(y_over_gauss - med) > k * stdev\n",
    "    mask = mask + np.roll(mask, -1) + np.roll(mask, -1)\n",
    "    mask = mask.astype(bool)\n",
    "    return mask, stdev\n",
    "\n",
    "def sigmaClip(y, yerr,k=2.5):\n",
    "    clip = True\n",
    "    clip_iters = 0\n",
    "    std = np.nanstd(y[window], ddof = 1)\n",
    "    mask = np.zeros(y.shape).astype(bool)\n",
    "    clip_success = True\n",
    "\n",
    "    while clip:\n",
    "        clip_mask, std_clipped = sigma_clip_mask(np.ma.array(y, mask = mask.copy()), k = k)\n",
    "        if clip_mask is None:\n",
    "            clip_success = False\n",
    "            return mask, clip_success\n",
    "        clip_mask = clip_mask.filled(False)\n",
    "\n",
    "        if std - std_clipped  < 1e-4:\n",
    "            clip = False\n",
    "\n",
    "\n",
    "        else:\n",
    "            clip_iters += 1\n",
    "            std = std_clipped\n",
    "            mask = mask + clip_mask\n",
    "\n",
    "    return mask, clip_success"
   ]
  },
  {
   "cell_type": "code",
   "execution_count": 20,
   "metadata": {},
   "outputs": [
    {
     "data": {
      "text/plain": [
       "[<matplotlib.lines.Line2D at 0x151f03a37730>]"
      ]
     },
     "execution_count": 20,
     "metadata": {},
     "output_type": "execute_result"
    },
    {
     "data": {
      "image/png": "[encoded data removed]",
      "text/plain": [
       "<Figure size 432x288 with 1 Axes>"
      ]
     },
     "metadata": {
      "needs_background": "light"
     },
     "output_type": "display_data"
    }
   ],
   "source": [
    "dataPath = '/uufs/chpc.utah.edu/common/home/astro/zasowski/mcbride/data/DHT21_Taurus_interp.fits'\n",
    "hdulCO = fits.open(dataPath)\n",
    "\n",
    "headerCO = hdulCO[0].header\n",
    "dataCO = hdulCO[0].data\n",
    "wcsCO = WCS(headerCO)\n",
    "\n",
    "glon = headerCO['CRVAL2'] + headerCO['CDELT2'] * (np.arange(0, headerCO['NAXIS2'])- headerCO['CRPIX2'])\n",
    "glat = headerCO['CRVAL3'] + headerCO['CDELT3'] * (np.arange(0, headerCO['NAXIS3'])- headerCO['CRPIX3'])\n",
    "rvel = headerCO['CRVAL1'] + headerCO['CDELT1'] * (np.arange(0, headerCO['NAXIS1'])- headerCO['CRPIX1'])\n",
    "\n",
    "l, b, v = np.meshgrid(glon, glat, rvel)\n",
    "coord = SkyCoord(l * u.deg, b  * u.deg, radial_velocity = v * u.km/u.s, pm_l_cosb = 0 * u.deg/u.s,\n",
    "                  pm_b = 0 * u.deg / u.s, distance = 500 * u.pc, frame = 'galacticlsr')\n",
    "\n",
    "coord_icrs = coord.transform_to('icrs')\n",
    "\n",
    "def get_CO_profile(l, b):\n",
    "    coord_sel = SkyCoord(l = l * u.deg, b = b * u.deg, frame = 'galactic')\n",
    "    pix_ind_l, pix_ind_b = wcsCO.world_to_pixel(0 * u.km/u.s, coord_sel)[1:]\n",
    "    CO_profile = dataCO.T[:, int(pix_ind_l), int(pix_ind_b)]\n",
    "    rvel = coord_icrs.T.radial_velocity[:, int(pix_ind_l), int(pix_ind_b)]\n",
    "    return CO_profile, rvel\n",
    "profile, rvel = get_CO_profile(165, -7)\n",
    "\n",
    "plt.plot(rvel, profile)"
   ]
  },
  {
   "cell_type": "code",
   "execution_count": 21,
   "metadata": {},
   "outputs": [],
   "source": [
    "def generateClippedResidual(aspcap, medres, apstar, rv, k = 3):\n",
    "    spectrum = aspcap[1].data\n",
    "    model = aspcap[3].data\n",
    "    err = aspcap[2].data\n",
    "    bitmask = apstar[3].data[0, :]\n",
    "\n",
    "    if medres[1].data is None:\n",
    "        medres_model = np.ones(spectrum.shape)\n",
    "        medres_err =np.zeros(spectrum.shape)\n",
    "    else:\n",
    "        medres_model = np.array(medres[1].data)\n",
    "        medres_err = np.array(medres[3].data)\n",
    "\n",
    "\n",
    "\n",
    "    mask_digits = [0, 1, 2, 9, 12, 13] # 0 BADPIX, 1 CRPIX, 2 SATPIX, 9 PERSIST_HIGH, 12 SIG_SKYLINE, 13 SIG_TELLURIC\n",
    "    mask = np.zeros(bitmask.shape)\n",
    "    for digit in mask_digits:\n",
    "        mask = mask + np.bitwise_and(bitmask.astype(int), 2**digit) \n",
    "\n",
    "    mask = mask.astype(bool)\n",
    "    res_corr = spectrum / model / medres_model\n",
    "    # print('res corr shape', res_corr.shape)\n",
    "    uncertainty_corr = np.sqrt(err**2) #+ medres_err**2)\n",
    "\n",
    "    sky_residuals = [(15268.1, 1),(15274.1, 1),(15275.9, 1)]\n",
    "    manual_masks = np.zeros(len(wavs))\n",
    "    for sky in sky_residuals:\n",
    "        wl = sky[0]\n",
    "        manual_masks[np.argmin(np.abs(wavs - wl))] = True\n",
    "    manual_masks = manual_masks + np.roll(manual_masks, -1) + np.roll(manual_masks, 1)\n",
    "\n",
    "    # mask_sigmaclip = np.zeros(len(wavs))\n",
    "\n",
    "\n",
    "    maskSigClip, clip_success = sigmaClip(res_corr, uncertainty_corr, k = k)\n",
    "\n",
    "    mask = mask + maskSigClip\n",
    "    mask = mask.astype(bool)\n",
    "\n",
    "    res_corr_ma = np.ma.array(res_corr, mask = mask)\n",
    "    res_corr_filled = res_corr_ma.filled(np.nan)\n",
    "\n",
    "    res_corr_resamp = resample_interp(res_corr_filled, rv)\n",
    "    uncertainty_corr_resamp = resample_interp(uncertainty_corr, rv)\n",
    "\n",
    "    sky_residuals = [(15268.1, 1),(15274.1, 1),(15275.9, 1)]\n",
    "    manual_masks = np.zeros(len(wavs))\n",
    "    for sky in sky_residuals:\n",
    "        wl = sky[0]\n",
    "        manual_masks[np.argmin(np.abs(wavs - wl))] = True\n",
    "    manual_masks = manual_masks + np.roll(manual_masks, -1) + np.roll(manual_masks, 1)\n",
    "\n",
    "\n",
    "    res_corr_resamp = np.ma.array(res_corr_resamp, mask = manual_masks)\n",
    "    res_corr_resamp = res_corr_resamp.filled(np.nan)\n",
    "\n",
    "\n",
    "    return res_corr_resamp, uncertainty_corr_resamp#, clip_success"
   ]
  },
  {
   "cell_type": "code",
   "execution_count": 22,
   "metadata": {},
   "outputs": [],
   "source": [
    "from spacefns_v2 import dAV_dd_array\n",
    "from residual_process import reprocess\n",
    "from filehandling import getASPCAP, getapStar\n",
    "\n",
    "class ForegroundModifiedSightline(Sightline):\n",
    "    def __init__(self, stars, coords = None, dAVdd = None, dfore = 400, **kwargs):\n",
    "        # self.all_stars = stars\n",
    "        self.stars = stars[stars['DIST'] > dfore]\n",
    "        dist = self.stars['DIST']\n",
    "\n",
    "        self.make_fgbins()\n",
    "        self.bin_inds = np.digitize(dist, self.bins)\n",
    "\n",
    "        if coords is not None:\n",
    "            self.l, self.b = coords\n",
    "        else:\n",
    "            self.l, self.b = (np.nanmean(self.stars['GLON']), np.nanmean(self.stars['GLAT']))\n",
    "        \n",
    "        self.rvelo = np.zeros(len(self.bins) - 1)\n",
    "        self.get_DIBs(**kwargs)\n",
    "\n",
    "        self.ndim = len(self.voxel_dAVdd)\n",
    "        self.nsig = len(self.stars)\n",
    "\n",
    "        self.test_init_signals = self.model_signals_fg(self.rvelo, self.dAVdd)\n",
    "    \n",
    "    def get_DIBs(self, MADGICS = False, alternative_data_processing = None, **kwargs):\n",
    "        signals = np.zeros((len(self.stars), len(wavs_window)))\n",
    "        signal_errs = np.zeros((len(self.stars), len(wavs_window)))\n",
    "        dAVdd = np.zeros((len(self.stars), len(self.bins)-1))\n",
    "        dAVdd_all = np.zeros((len(self.stars), len(self.bins)-1))\n",
    "        dAVdd_mask =np.zeros((len(self.stars), len(self.bins)-1)).astype(bool)\n",
    "\n",
    "        if alternative_data_processing is not None:\n",
    "            # needs to take aspcap, medres, apstar, rv as arguments\n",
    "            for i in range(len(self.stars)):\n",
    "                star = self.stars[i]\n",
    "                star_rv = star['VHELIO_AVG']\n",
    "                aspcap = fits.open(getASPCAP(star))\n",
    "                apstar = fits.open(getapStar(aspcap))\n",
    "                medres = fits.open(get_medres(star['TEFF'], star['LOGG'], star['M_H']))\n",
    "                sig, err = alternative_data_processing(aspcap, medres, apstar, star_rv)\n",
    "                signals[i, :], signal_errs[i, :] = sig[window], err[window]\n",
    "\n",
    "               \n",
    "                l, b = star['GLON'], star['GLAT']\n",
    "                dAVdd[i], dAVdd_all[i], dAVdd_mask[i] = dAV_dd_array(l, b, self.bins, star['DIST'], **kwargs)\n",
    "        \n",
    "        else:\n",
    "            if MADGICS:\n",
    "                signals_aspcap = np.zeros((len(self.stars), len(wavs_window)))\n",
    "                signal_errs_aspcap = np.zeros((len(self.stars), len(wavs_window)))\n",
    "\n",
    "            for i in range(len(self.stars)):\n",
    "                star = self.stars[i]\n",
    "                star_rv = star['VHELIO_AVG']\n",
    "                res_hdul = fits.open(get_ca_res(star['FILE']))\n",
    "                signals[i, :] = res_hdul[1].data[window]\n",
    "                signal_errs[i, :] = res_hdul[2].data[window]\n",
    "                reprocess_uncertainty = True\n",
    "                if reprocess_uncertainty:\n",
    "                    signal_errs[i, :] = self.reprocess_errs(res_hdul, star['VHELIO_AVG'])[window]\n",
    "                reprocess_residual = True\n",
    "                if reprocess_residual:\n",
    "                    res_repr, err_repr = reprocess(res_hdul, star['VHELIO_AVG'])\n",
    "                    signals[i, :] = res_repr[window]\n",
    "                    signal_errs[i, :] = err_repr[window]\n",
    "                l, b = star['GLON'], star['GLAT']\n",
    "                dAVdd[i], dAVdd_all[i], dAVdd_mask[i] = dAV_dd_array(l, b, self.bins, star['DIST'], **kwargs)\n",
    "\n",
    "                if MADGICS:\n",
    "                    signals_aspcap[i, :] = np.copy(signals[i, :])\n",
    "                    signal_errs_aspcap[i, :] = np.copy(signal_errs[i, :])\n",
    "                    res_hdul_m = fits.open(get_madgics_res(star['FILE']))\n",
    "                    signals[i, :] = res_hdul_m[1].data[0, 125:][window]\n",
    "\n",
    "\n",
    "\n",
    "        self.signals = signals\n",
    "        self.signal_errs = signal_errs\n",
    "        self.dAVdd = dAVdd\n",
    "        self.voxel_dAVdd = np.nanmedian(dAVdd_all, axis = 0)\n",
    "        self.voxel_dAVdd_std = np.nanstd(dAVdd_all, axis = 0, ddof = 1)\n",
    "        self.dAVdd_mask = dAVdd_mask.astype(bool)\n",
    "        # self.dAVdd_v = dAVdd_v\n",
    "        if MADGICS:\n",
    "            self.signals_aspcap = signals_aspcap\n",
    "            self.signal_errs_aspcap = signal_errs_aspcap\n",
    "\n",
    "    def make_fgbins(self, binsep = 10, dfore = 400, **kwargs):\n",
    "        dmin = 0 # start bins at 0pc\n",
    "        dist = self.stars['DIST']\n",
    "        bins = np.sort(np.insert(np.delete(dist, np.where(dist <= dmin)[0]), [0,1], [dmin, dfore]))\n",
    "        # print('BINS BEFORE THING', bins)\n",
    "        i = 0\n",
    "        while i >= 0:\n",
    "            try:\n",
    "                next_bin = np.min(bins[bins > bins[i]])\n",
    "            except:\n",
    "                print('broke:')\n",
    "                print(bins[bins > bins[i]])\n",
    "                print(len(self.stars))\n",
    "\n",
    "            bins[i+1] = np.max([next_bin, bins[i] + binsep]) + 0.01\n",
    "            if bins[i+1] >= np.max(dist):\n",
    "                bins = bins[:i+2]\n",
    "                i = -np.inf\n",
    "            i = i+1\n",
    "        \n",
    "        self.bins = bins\n",
    "\n",
    "    def model_signals_fg(self, rvelo, dAVdd=None, binsep = None):\n",
    "        if dAVdd is None:\n",
    "            dAVdd = self.dAVdd\n",
    "        if binsep is None:\n",
    "            binsep = self.bins[1:]-self.bins[:-1]\n",
    "        signals = np.zeros((len(self.stars), len(wavs_window)))\n",
    "        peak_wavelength = dopplershift(rvelo)\n",
    "        wavs_grid = np.tile(wavs_window, (len(self.bins)-1, 1))\n",
    "        voxel_DIB_unscaled = np.exp(-(wavs_grid - peak_wavelength[:, np.newaxis])**2 / (2 * sigma0**2))\n",
    "        amp = differentialAmplitude(dAVdd, binsep)\n",
    "\n",
    "        def single_signal(amp, bindex):\n",
    "            amp[bindex :] = 0 # THIS MIGHT NEED TO BE -1\n",
    "\n",
    "            voxel_DIB_scaled = -voxel_DIB_unscaled *  amp[:, np.newaxis] \n",
    "            summed_DIB = np.sum(voxel_DIB_scaled, axis = 0)\n",
    "            # continuum = lambda x, m, b : m * (x - lambda0) + b\n",
    "            # cont = continuum(wavs_window, 0, b)\n",
    "            return summed_DIB  + 1\n",
    "\n",
    "\n",
    "        for i in range(len(self.stars)):\n",
    "            star = self.stars[i]\n",
    "            dAVdd_star = dAVdd[i, :]\n",
    "            # amp = Differential_Amplitude(dAVdd_star, self.bins[1:]-self.bins[:-1])\n",
    "            amp = differentialAmplitude(dAVdd_star, 1)\n",
    "\n",
    "            bin_index = self.bin_inds[i]\n",
    "            # signals[i, :] = single_signal(bin_index)\n",
    "            signals[i, :] = single_signal(amp, bin_index)\n",
    "        return signals\n"
   ]
  },
  {
   "cell_type": "code",
   "execution_count": 23,
   "metadata": {},
   "outputs": [
    {
     "name": "stderr",
     "output_type": "stream",
     "text": [
      "/tmp/ipykernel_996968/3305682505.py:22: RuntimeWarning: invalid value encountered in divide\n",
      "  res_corr = spectrum / model / medres_model\n",
      "/tmp/ipykernel_996968/3305682505.py:22: RuntimeWarning: divide by zero encountered in divide\n",
      "  res_corr = spectrum / model / medres_model\n"
     ]
    }
   ],
   "source": [
    "sightlines = []\n",
    "for i in range(len(selected_inds)):\n",
    "    sightlines.append(ForegroundModifiedSightline(CA_meta[selected_inds[i]], dustdata = dust_data, alternative_data_processing = generateClippedResidual))"
   ]
  },
  {
   "cell_type": "code",
   "execution_count": 24,
   "metadata": {},
   "outputs": [],
   "source": [
    "n_vars = np.zeros(len(sightlines))\n",
    "n_dim = np.zeros(len(sightlines))\n",
    "for i in range(len(sightlines)):\n",
    "    n_vars[i] = sightlines[i].ndim + sightlines[i].nsig * sightlines[i].ndim\n",
    "    n_dim[i] = sightlines[i].ndim"
   ]
  },
  {
   "cell_type": "code",
   "execution_count": null,
   "metadata": {},
   "outputs": [],
   "source": []
  },
  {
   "cell_type": "code",
   "execution_count": 25,
   "metadata": {},
   "outputs": [
    {
     "data": {
      "image/png": "[encoded data removed]",
      "text/plain": [
       "<Figure size 432x432 with 2 Axes>"
      ]
     },
     "metadata": {
      "needs_background": "light"
     },
     "output_type": "display_data"
    },
    {
     "data": {
      "image/png": "[encoded data removed]",
      "text/plain": [
       "<Figure size 432x288 with 1 Axes>"
      ]
     },
     "metadata": {
      "needs_background": "light"
     },
     "output_type": "display_data"
    }
   ],
   "source": [
    "fig, axs = plt.subplots(nrows = 2, ncols = 1, sharex = True, gridspec_kw={'hspace': 0}, figsize = (6, 6))\n",
    "ax = axs[0] \n",
    "ax.scatter(N_min_vals, n_vars)\n",
    "ax.set_ylabel('Variables')\n",
    "ax = axs[1]\n",
    "ax.scatter(N_min_vals, n_dim)\n",
    "ax.set_xlabel('Stars')\n",
    "ax.set_ylabel('Bins')\n",
    "# ax.set_facecolor('white')\n",
    "plt.show()\n",
    "\n",
    "fig, ax = plt.subplots()\n",
    "ax.scatter(n_vars, n_dim / n_vars)\n",
    "ax.set_xlabel('Stars')\n",
    "ax.set_ylabel('Bins / Variables')\n",
    "plt.show()"
   ]
  }
 ],
 "metadata": {
  "kernelspec": {
   "display_name": "Python 3",
   "language": "python",
   "name": "python3"
  },
  "language_info": {
   "codemirror_mode": {
    "name": "ipython",
    "version": 3
   },
   "file_extension": ".py",
   "mimetype": "text/x-python",
   "name": "python",
   "nbconvert_exporter": "python",
   "pygments_lexer": "ipython3",
   "version": "3.10.3"
  }
 },
 "nbformat": 4,
 "nbformat_minor": 2
}
