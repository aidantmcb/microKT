{
 "cells": [
  {
   "cell_type": "code",
   "execution_count": 1,
   "metadata": {},
   "outputs": [],
   "source": [
    "from multiprocessing import Pool\n",
    "import os\n",
    "os.environ['OMP_NUM_THREADS'] = \"1\"\n",
    "\n",
    "import numpy as np\n",
    "\n",
    "import astropy.units as u  \n",
    "import astropy.constants as c\n",
    "from astropy.coordinates import SkyCoord\n",
    "\n",
    "import matplotlib.pyplot as plt\n",
    "from matplotlib.colors import Normalize\n",
    "import matplotlib \n",
    "\n",
    "from astropy.io import fits\n",
    "from astropy.table import Table, join\n",
    "from scipy.interpolate import interp1d\n",
    "from scipy.optimize import curve_fit\n",
    "from scipy.stats import spearmanr\n",
    "\n",
    "from dustmaps.bayestar import BayestarQuery\n",
    "from dustmaps.vergely2022 import Vergely2022Query\n",
    "from dustmaps.edenhofer2023 import Edenhofer2023Query\n",
    "\n",
    "import pickle \n",
    "import sys\n",
    "import os\n",
    "import tqdm\n",
    "\n",
    "import emcee\n",
    "import corner\n",
    "\n",
    "import h5py"
   ]
  },
  {
   "cell_type": "code",
   "execution_count": 2,
   "metadata": {},
   "outputs": [],
   "source": [
    "from sightline import Sightline"
   ]
  },
  {
   "cell_type": "code",
   "execution_count": 3,
   "metadata": {},
   "outputs": [],
   "source": [
    "import globalvars\n",
    "dust_data = globalvars.DustData()"
   ]
  },
  {
   "cell_type": "code",
   "execution_count": 4,
   "metadata": {},
   "outputs": [],
   "source": [
    "map_fname = '/uufs/astro.utah.edu/common/home/u1371365/DIB_KT_CACloud/edenhofer_out.h5'\n",
    "\n",
    "with h5py.File(map_fname, 'r') as f:\n",
    "    edenhofer = np.array(f['data'])\n",
    "    dust_data.intake_map(edenhofer)"
   ]
  },
  {
   "cell_type": "code",
   "execution_count": 5,
   "metadata": {},
   "outputs": [],
   "source": [
    "from specfns import get_wavs, resample_interp, dopplershift, lambda0, sigma0\n",
    "from filehandling import get_ca_res, get_madgics_res\n",
    "from spacefns_v2 import select_stars, find_nearest, find_radius, differentialAmplitude\n",
    "from MCMCfns import logprob_2\n",
    "import time"
   ]
  },
  {
   "cell_type": "code",
   "execution_count": 6,
   "metadata": {},
   "outputs": [
    {
     "name": "stdout",
     "output_type": "stream",
     "text": [
      "1010\n"
     ]
    }
   ],
   "source": [
    "CA_meta = Table(fits.open('../Data/230420_CAResiduals/CA_meta.fits')[1].data)\n",
    "CAresdir = '/uufs/astro.utah.edu/common/home/u1371365/Data/230420_CAResiduals/'\n",
    "CAMADGICSresdir = '/uufs/astro.utah.edu/common/home/u1371365/Data/230829_MADGICSResiduals/'\n",
    "starhorsepath = '/uufs/chpc.utah.edu/common/home/sdss/dr17/env/APOGEE_STARHORSE/APOGEE_DR17_EDR3_STARHORSE_v2.fits'\n",
    "starhorse = Table.read(starhorsepath, hdu = 1)\n",
    "starhorse = starhorse['APOGEE_ID', 'dist16', 'dist50', 'dist84', 'AV16', 'AV50', 'AV84']\n",
    "\n",
    "CA_meta = join(CA_meta, starhorse, keys = 'APOGEE_ID', join_type = 'left')\n",
    "\n",
    "CA_meta_full = CA_meta.copy()\n",
    "\n",
    "with open('/uufs/astro.utah.edu/common/home/u1371365/DIB_KT_CACloud/goodbad.pickle', mode = 'rb') as f:\n",
    "    goodbad = pickle.load(f)\n",
    "\n",
    "# added 02.01\n",
    "data_criteria = (((CA_meta['SNR'] > 80) & (CA_meta['TEFF'] > 5000)) | (CA_meta['SNR'] > 150)) & (CA_meta['ASPCAP_CHI2_1'] > 1) & (CA_meta['ASPCAP_CHI2_1'] < 5)\n",
    "print(np.sum(data_criteria))\n",
    "CA_meta= CA_meta[data_criteria]"
   ]
  },
  {
   "cell_type": "code",
   "execution_count": 7,
   "metadata": {},
   "outputs": [],
   "source": [
    "wavs = get_wavs()\n",
    "window = (wavs > lambda0 -10) & (wavs < lambda0 + 10)\n",
    "wavs_window = wavs[window]"
   ]
  },
  {
   "cell_type": "code",
   "execution_count": 10,
   "metadata": {},
   "outputs": [
    {
     "name": "stdout",
     "output_type": "stream",
     "text": [
      "91\n",
      "23\n",
      "28\n"
     ]
    }
   ],
   "source": [
    "ds = 2.5 # x downsampled\n",
    "rad = 0.23\n",
    "sample_dim_l = np.linspace(159, 167, int(8 / (ds * rad)))\n",
    "sample_dim_b = np.linspace(-12.5 , -4.5, int(8 / (ds * rad)))\n",
    "sample_grid_l, sample_grid_b = np.meshgrid(sample_dim_l, sample_dim_b)\n",
    "grid_map_inds = np.array([find_nearest(sample_grid_l.flatten()[i], sample_grid_b.flatten()[i]) for i in range(len(sample_grid_l.flatten()))]).T\n",
    "grid_map = np.nansum(np.copy(edenhofer[grid_map_inds[1], grid_map_inds[0], :]).reshape(*sample_grid_l.shape, -1), axis = 2)\n",
    "grid_Nstar = np.array([np.nansum((np.abs((sample_grid_l.flatten()[i] - CA_meta['GLON'])) <= rad) & \n",
    "            (np.abs((sample_grid_b.flatten()[i] - CA_meta['GLAT'])) <= rad)) for i in range(len(sample_grid_l.flatten()))]).reshape(*sample_grid_l.shape)\n",
    "\n",
    "filament_l = (159, 169)\n",
    "filament_b = (-10, -6)\n",
    "\n",
    "N_min = 5\n",
    "radius_min = np.zeros(sample_grid_l.shape)\n",
    "mgrid = np.mgrid[0:len(sample_dim_l), 0:len(sample_dim_b)]\n",
    "for i in mgrid[0].flatten():\n",
    "    for j in mgrid[1].flatten():\n",
    "        radius_min[i, j] = find_radius(sample_grid_l[i, j], sample_grid_b[i, j], N_min, CA_meta)\n",
    "        radius_min[i, j] = np.max([radius_min[i, j], 0.23])\n",
    "\n",
    "radius_max = 0.4\n",
    "print(np.nansum(radius_min < radius_max))\n",
    "\n",
    "\n",
    "crit_filament = ((sample_grid_l > filament_l[0]) & (sample_grid_l < filament_l[1]) & \n",
    "                 (sample_grid_b > filament_b[0]) & (sample_grid_b < filament_b[1]) &\n",
    "                 (grid_map > 2.2) & (radius_min < 0.5)) #(grid_Nstar > 5) & (grid_Nstar <= 10))\n",
    "\n",
    "crit_background =  (((sample_grid_l <= filament_l[0]) | (sample_grid_l >= filament_l[1]) |\n",
    "                 (sample_grid_b <= filament_b[0]) | (sample_grid_b >= filament_b[1])) &\n",
    "                 (grid_map <= 1.5) & (radius_min < radius_max)) #(grid_Nstar > 5) & (grid_Nstar <= 10))\n",
    "\n",
    "# crit_coverage = (np.sum() => 1 & )\n",
    "\n",
    "N_filament = np.sum(crit_filament)\n",
    "N_background = np.sum(crit_background)\n",
    "print(np.sum(crit_filament))\n",
    "print(np.sum(crit_background))\n",
    "l_fil, b_fil, AV_fil = (sample_grid_l[crit_filament].flatten(), sample_grid_b[crit_filament].flatten(),\n",
    "                        grid_map[crit_filament].flatten())\n",
    "l_off, b_off, AV_off = (sample_grid_l[crit_background].flatten(), sample_grid_b[crit_background].flatten(),\n",
    "                        grid_map[crit_background].flatten())\n",
    "\n",
    "l_sample, b_sample, AV_sample = (np.concatenate([l_fil, l_off]), np.concatenate([b_fil, b_off]),\n",
    "                                  np.concatenate([AV_fil, AV_off]))\n",
    "radius_min_fil = radius_min[crit_filament].flatten()\n",
    "radius_min_off = radius_min[crit_background].flatten()\n",
    "radius_sample = np.concatenate([radius_min_fil, radius_min_off])\n",
    "\n",
    "selected_inds = []\n",
    "for i in range(len(l_sample)):\n",
    "    l_center, b_center = l_sample[i], b_sample[i]\n",
    "    rad_i = radius_sample[i]\n",
    "    selection = select_stars(CA_meta, l_center, b_center, radius = rad_i)\n",
    "    # print(len(selection))\n",
    "    selected_inds.append(selection)"
   ]
  },
  {
   "cell_type": "code",
   "execution_count": 11,
   "metadata": {},
   "outputs": [],
   "source": [
    "class ForegroundModifiedSightline(Sightline):\n",
    "    def __init__(self, stars, coords = None, dAVdd = None, foreground_dist = 400, **kwargs):\n",
    "        self.stars = stars[stars['DIST'] > foreground_dist]\n",
    "        dist = self.stars['DIST']\n",
    "\n",
    "        self.make_bins()\n",
    "        self.bin_inds = np.digitize(dist, self.bins)\n",
    "\n",
    "        if coords is not None:\n",
    "            self.l, self.b = coords\n",
    "        else:\n",
    "            self.l, self.b = (np.nanmean(self.stars['GLON']), np.nanmean(self.stars['GLAT']))\n",
    "        \n",
    "\n",
    "\n",
    "    def make_fgbins(self, binsep = 10, dmin = 0, **kwargs):\n",
    "        star_dist = self.stars['DIST']\n",
    "        bins = np.sort(np.insert(np.delete(dist, np.where(dist <= dmin)[0]), 0, dmin))\n"
   ]
  },
  {
   "cell_type": "code",
   "execution_count": 22,
   "metadata": {},
   "outputs": [],
   "source": [
    "# selected_inds[0]\n",
    "for i in range(15):\n",
    "    stars = CA_meta[selected_inds[i]]\n",
    "    # print(np.array(stars['DIST']))\n",
    "stars = CA_meta[selected_inds[0]]"
   ]
  },
  {
   "cell_type": "code",
   "execution_count": 14,
   "metadata": {},
   "outputs": [
    {
     "name": "stdout",
     "output_type": "stream",
     "text": [
      "[  0.      157.86075 418.4991  525.6287  569.89996 585.31537]\n"
     ]
    },
    {
     "name": "stderr",
     "output_type": "stream",
     "text": [
      "/uufs/astro.utah.edu/common/home/u1371365/nanoKT_v1/residual_process.py:7: RuntimeWarning: invalid value encountered in true_divide\n",
      "  res = hdu_rf[0, :] / hdu_rf[2, :]\n"
     ]
    }
   ],
   "source": [
    "modsl = ForegroundModifiedSightline(stars, dustdata = dust_data)"
   ]
  },
  {
   "cell_type": "code",
   "execution_count": 21,
   "metadata": {},
   "outputs": [
    {
     "name": "stdout",
     "output_type": "stream",
     "text": [
      "['__class__', '__delattr__', '__dict__', '__dir__', '__doc__', '__eq__', '__format__', '__ge__', '__getattribute__', '__gt__', '__hash__', '__init__', '__init_subclass__', '__le__', '__lt__', '__module__', '__ne__', '__new__', '__reduce__', '__reduce_ex__', '__repr__', '__setattr__', '__sizeof__', '__str__', '__subclasshook__', '__weakref__', 'bin_inds', 'bins', 'dAVdd', 'dAVdd_mask', 'get_DIBs', 'init_signals', 'intake', 'intake_coords', 'make_bins', 'model_signals', 'ndim', 'nsig', 'reprocess_errs', 'rvelo', 'signal_errs', 'signals', 'stars', 'voxel_dAVdd', 'voxel_dAVdd_std']\n"
     ]
    }
   ],
   "source": [
    "print(dir(modsl))"
   ]
  }
 ],
 "metadata": {
  "kernelspec": {
   "display_name": "Python 3",
   "language": "python",
   "name": "python3"
  },
  "language_info": {
   "codemirror_mode": {
    "name": "ipython",
    "version": 3
   },
   "file_extension": ".py",
   "mimetype": "text/x-python",
   "name": "python",
   "nbconvert_exporter": "python",
   "pygments_lexer": "ipython3",
   "version": "3.10.3"
  }
 },
 "nbformat": 4,
 "nbformat_minor": 2
}
